{
  "cells": [
    {
      "cell_type": "code",
      "execution_count": 1,
      "metadata": {
        "colab": {
          "base_uri": "https://localhost:8080/"
        },
        "id": "O2vLro03dT13",
        "outputId": "b8e405f0-5c10-4f3e-b969-cbc83f7952cc"
      },
      "outputs": [
        {
          "output_type": "stream",
          "name": "stdout",
          "text": [
            "Cloning into 'PolarNet'...\n",
            "remote: Enumerating objects: 51, done.\u001b[K\n",
            "remote: Counting objects: 100% (51/51), done.\u001b[K\n",
            "remote: Compressing objects: 100% (50/50), done.\u001b[K\n",
            "remote: Total 51 (delta 23), reused 0 (delta 0), pack-reused 0 (from 0)\u001b[K\n",
            "Receiving objects: 100% (51/51), 5.41 MiB | 5.32 MiB/s, done.\n",
            "Resolving deltas: 100% (23/23), done.\n"
          ]
        }
      ],
      "source": [
        "!git clone https://github.com/Jithin06/PolarNet.git"
      ]
    },
    {
      "cell_type": "code",
      "execution_count": 2,
      "metadata": {
        "colab": {
          "base_uri": "https://localhost:8080/"
        },
        "id": "AVT_jdd_dZpY",
        "outputId": "801dc93a-1a79-4f65-8fc3-1fd4177a32e7"
      },
      "outputs": [
        {
          "output_type": "stream",
          "name": "stdout",
          "text": [
            "/content/PolarNet\n"
          ]
        }
      ],
      "source": [
        "cd PolarNet/"
      ]
    },
    {
      "cell_type": "code",
      "execution_count": 3,
      "metadata": {
        "colab": {
          "base_uri": "https://localhost:8080/",
          "height": 35
        },
        "id": "EnPDlTcx1K_P",
        "outputId": "39f9c88e-2862-45e3-83ed-71c9ea0fd501"
      },
      "outputs": [
        {
          "output_type": "execute_result",
          "data": {
            "text/plain": [
              "'/content/PolarNet'"
            ],
            "application/vnd.google.colaboratory.intrinsic+json": {
              "type": "string"
            }
          },
          "metadata": {},
          "execution_count": 3
        }
      ],
      "source": [
        "pwd"
      ]
    },
    {
      "cell_type": "code",
      "execution_count": 4,
      "metadata": {
        "colab": {
          "base_uri": "https://localhost:8080/"
        },
        "id": "E7AtQWZidZsM",
        "outputId": "9b4722ff-18c1-47f5-d573-67c9078ec6c3"
      },
      "outputs": [
        {
          "output_type": "stream",
          "name": "stderr",
          "text": [
            "<ipython-input-4-a4b06a8efe2d>:4: TqdmExperimentalWarning: Using `tqdm.autonotebook.tqdm` in notebook mode. Use `tqdm.tqdm` instead to force console mode (e.g. in jupyter console)\n",
            "  from tqdm.autonotebook import tqdm\n"
          ]
        }
      ],
      "source": [
        "import torch\n",
        "import torch.nn as nn\n",
        "import numpy as np\n",
        "from tqdm.autonotebook import tqdm\n",
        "from polar import PolarCode, get_frozen\n",
        "from reliability_sequence import Reliability_Sequence\n",
        "from utils import errors_ber, errors_bler\n",
        "import matplotlib.pyplot as plt\n",
        "import random\n",
        "import os"
      ]
    },
    {
      "cell_type": "code",
      "execution_count": 5,
      "metadata": {
        "colab": {
          "base_uri": "https://localhost:8080/"
        },
        "id": "IVQHsJewdZuz",
        "outputId": "c90937f8-51af-42ad-fa8a-27552588f09c"
      },
      "outputs": [
        {
          "output_type": "execute_result",
          "data": {
            "text/plain": [
              "<torch._C.Generator at 0x7d49a1cb5c30>"
            ]
          },
          "metadata": {},
          "execution_count": 5
        }
      ],
      "source": [
        "n = 5\n",
        "N = 2**n\n",
        "K = 16\n",
        "snr = 1\n",
        "batch_size = 64\n",
        "num_samples = 20000\n",
        "seed = 42\n",
        "\n",
        "def set_seed(seed):\n",
        "    random.seed(seed)\n",
        "    np.random.seed(seed)\n",
        "    torch.manual_seed(seed)\n",
        "    torch.cuda.manual_seed(seed)\n",
        "    torch.cuda.manual_seed_all(seed)\n",
        "    torch.backends.cudnn.deterministic = True\n",
        "    torch.backends.cudnn.benchmark = False\n",
        "\n",
        "set_seed(seed)\n",
        "\n",
        "def seed_worker(worker_id):\n",
        "    worker_seed = torch.initial_seed() % 2**32\n",
        "    np.random.seed(worker_seed)\n",
        "    random.seed(worker_seed)\n",
        "g = torch.Generator()\n",
        "g.manual_seed(seed)"
      ]
    },
    {
      "cell_type": "code",
      "execution_count": 6,
      "metadata": {
        "id": "Xuk3fnrHdiEb"
      },
      "outputs": [],
      "source": [
        "def create_data(num_samples, n, K, snr,rs):\n",
        "    \"\"\"\n",
        "    Parameters:\n",
        "    - num_samples: Total number of samples to generate\n",
        "    - batch_size: Batch size for data generation\n",
        "    - n: Polar code parameter\n",
        "    - K: Information bit length\n",
        "    - snr: Signal-to-Noise Ratio\n",
        "    - rs: Reliability Sequence\n",
        "\n",
        "    Returns:\n",
        "    - Saved .npz file with dataset\n",
        "    \"\"\"\n",
        "\n",
        "    msg_bits_list = []\n",
        "    bpsk_list = []\n",
        "    codeword_list = []\n",
        "    corrupted_codeword_list = []\n",
        "\n",
        "    polar = PolarCode(n, K, rs = rs, use_cuda=False,hard_decision=True)\n",
        "    # Loop to generate data samples\n",
        "    for i in range(num_samples):\n",
        "        msg_bits = (torch.rand(K) > 0.5).float()\n",
        "        bpsk = 1 - 2 * msg_bits\n",
        "\n",
        "        codeword = polar.encode(bpsk.unsqueeze(0)).squeeze(0)\n",
        "        corrupted_codewords = polar.channel(codeword.unsqueeze(0), snr).squeeze(0)\n",
        "\n",
        "        msg_bits_list.append(msg_bits.cpu().numpy())\n",
        "        bpsk_list.append(bpsk.cpu().numpy())\n",
        "        codeword_list.append(codeword.cpu().numpy())\n",
        "        corrupted_codeword_list.append(corrupted_codewords.cpu().numpy())\n",
        "\n",
        "        msg_bits_array = np.stack(msg_bits_list)\n",
        "        bpsk_array = np.stack(bpsk_list)\n",
        "        codeword_array = np.stack(codeword_list)\n",
        "        corrupted_codeword_array = np.stack(corrupted_codeword_list)\n",
        "\n",
        "    filename = f\"polar_dataset_N{2**n}_K{K}_SNR{snr}_samples{num_samples}.npz\"\n",
        "    np.savez(filename, msg_bits=msg_bits_array, corrupted_codeword=corrupted_codeword_array, bpsk=bpsk_array, codeword=codeword_array)\n",
        "    print(f\"Dataset saved as {filename}\")"
      ]
    },
    {
      "cell_type": "code",
      "execution_count": 7,
      "metadata": {
        "id": "t0NHtHA8diHQ"
      },
      "outputs": [],
      "source": [
        "# create_data(num_samples,n,K,snr,rs=Reliability_Sequence)"
      ]
    },
    {
      "cell_type": "code",
      "execution_count": 8,
      "metadata": {
        "id": "Sz24fpEYx16r"
      },
      "outputs": [],
      "source": [
        "class PolarDatasetWithLLRMatrix:\n",
        "    def __init__(self, data_path, n, K, snr, save_decoded_path=None):\n",
        "        \"\"\"\n",
        "        Dataset that processes polar codes and stores both decoded bits and LLR matrices\n",
        "\n",
        "        Args:\n",
        "            data_path (str): Path to the original data file (.npz)\n",
        "            n (int): Log2 of codeword length (N = 2^n)\n",
        "            K (int): Information length\n",
        "            snr (float): Signal-to-noise ratio in dB\n",
        "            save_decoded_path (str, optional): Path to save the decoded bits for future use\n",
        "        \"\"\"\n",
        "        self.n = n\n",
        "        self.N = 2**n\n",
        "        self.K = K\n",
        "        self.snr = snr\n",
        "\n",
        "        # Load the original data\n",
        "        print(f\"Loading data from {data_path}\")\n",
        "        data = np.load(data_path)\n",
        "\n",
        "        # Create polar code object\n",
        "        self.polar = PolarCode(n, K, rs=Reliability_Sequence, Fr=None, use_cuda=torch.cuda.is_available(), hard_decision=True)\n",
        "\n",
        "        # Store the data\n",
        "        self.msg_bits = torch.tensor(data['msg_bits'])\n",
        "        self.bpsk = torch.tensor(data['bpsk'])\n",
        "        self.corrupted_codeword = torch.tensor(data['corrupted_codeword'])\n",
        "        self.codeword = torch.tensor(data['codeword'])\n",
        "\n",
        "        # Generate decoded bits and LLR matrices in a single pass\n",
        "        self.decoded_bits = []\n",
        "        self.llr_matrices = []\n",
        "        print(\"Generating decoded bits and LLR matrices for all samples...\")\n",
        "\n",
        "        # First, make a test call to check the number of return values\n",
        "        test_batch = self.corrupted_codeword[:1]  # Just use the first sample\n",
        "        device = torch.device('cuda' if torch.cuda.is_available() and hasattr(self.polar, 'device') and self.polar.device.type == 'cuda' else 'cpu')\n",
        "        test_batch = test_batch.to(device)\n",
        "\n",
        "        # Try to call sc_decode_new and see what it returns\n",
        "        try:\n",
        "            result = self.polar.sc_decode_new(test_batch, snr=self.snr)\n",
        "            num_returns = len(result) if isinstance(result, tuple) else 1\n",
        "            print(f\"sc_decode_new returns {num_returns} values\")\n",
        "\n",
        "            # Modify our approach based on the return values\n",
        "            if num_returns == 2:\n",
        "                # If only 2 returns (likely final_llrs and decoded_bits)\n",
        "                print(\"Detected 2-value return pattern - will modify LLR matrix collection\")\n",
        "                collect_llr_matrix_separately = True\n",
        "            else:\n",
        "                # Assuming 3 returns as expected\n",
        "                collect_llr_matrix_separately = False\n",
        "\n",
        "        except Exception as e:\n",
        "            print(f\"Error during test call: {e}\")\n",
        "            # Default to separate collection if test fails\n",
        "            collect_llr_matrix_separately = True\n",
        "\n",
        "        # Process in batches to avoid memory issues\n",
        "        batch_size = 100\n",
        "        num_batches = len(self.msg_bits) // batch_size + (0 if len(self.msg_bits) % batch_size == 0 else 1)\n",
        "\n",
        "        for i in tqdm(range(num_batches)):\n",
        "            start_idx = i * batch_size\n",
        "            end_idx = min((i + 1) * batch_size, len(self.msg_bits))\n",
        "\n",
        "            corrupted_batch = self.corrupted_codeword[start_idx:end_idx]\n",
        "            # Move to appropriate device\n",
        "            corrupted_batch = corrupted_batch.to(device)\n",
        "\n",
        "            if collect_llr_matrix_separately:\n",
        "                try:\n",
        "                    # Try with return_llr_matrix parameter\n",
        "                    final_llrs, batch_decoded_bits = self.polar.sc_decode_new(corrupted_batch, snr=self.snr, return_llr_matrix=False)\n",
        "                except TypeError:\n",
        "                    # Fall back if parameter doesn't exist\n",
        "                    final_llrs, batch_decoded_bits = self.polar.sc_decode_new(corrupted_batch, snr=self.snr)\n",
        "\n",
        "                # Need to define a method to collect LLR matrices separately\n",
        "                llr_matrix_batch = self._collect_llr_matrices(corrupted_batch, snr=self.snr)\n",
        "            else:\n",
        "                try:\n",
        "                    # Try with return_llr_matrix parameter\n",
        "                    final_llrs, batch_decoded_bits, llr_matrix_batch = self.polar.sc_decode_new(corrupted_batch, snr=self.snr, return_llr_matrix=True)\n",
        "                except TypeError:\n",
        "                    # Fall back if parameter doesn't exist\n",
        "                    final_llrs, batch_decoded_bits, llr_matrix_batch = self.polar.sc_decode_new(corrupted_batch, snr=self.snr)\n",
        "                # Debug: check if LLR matrix contains non-zero values\n",
        "                if torch.all(llr_matrix_batch == 0):\n",
        "                    print(\"WARNING: LLR matrix contains all zeros!\")\n",
        "                    print(f\"LLR matrix shape: {llr_matrix_batch.shape}\")\n",
        "                    # Try to print some values from final_llrs to confirm LLRs are calculated\n",
        "                    print(f\"Sample final LLRs: {final_llrs[0, :10]}\")  # Print first 10 values\n",
        "\n",
        "            # # Store results\n",
        "            # self.decoded_bits.append(batch_decoded_bits.cpu().numpy())\n",
        "            # self.llr_matrices.append(llr_matrix_batch.cpu().numpy())\n",
        "\n",
        "            # Store results\n",
        "            decoded_bits_binary = (batch_decoded_bits < 0).float()  # Convert -1/1 to 0/1\n",
        "            self.decoded_bits.append(decoded_bits_binary.cpu().numpy())\n",
        "            self.llr_matrices.append(llr_matrix_batch.cpu().numpy())\n",
        "\n",
        "        # Concatenate batches\n",
        "        self.decoded_bits = np.concatenate(self.decoded_bits, axis=0)\n",
        "        self.llr_matrices = np.concatenate(self.llr_matrices, axis=0)\n",
        "\n",
        "        print(f\"Decoded bits shape: {self.decoded_bits.shape}\")\n",
        "        print(f\"LLR matrices shape: {self.llr_matrices.shape}\")\n",
        "\n",
        "        # Save the decoded bits for future use if path is provided\n",
        "        if save_decoded_path:\n",
        "            print(f\"Saving decoded bits to {save_decoded_path}\")\n",
        "            np.savez(\n",
        "                save_decoded_path,\n",
        "                decoded_bits=self.decoded_bits,\n",
        "                info_positions=self.polar.info_positions\n",
        "            )\n",
        "\n",
        "        # Calculate and print BER and BLER\n",
        "        decoded_bits_tensor = torch.tensor(self.decoded_bits)\n",
        "        ber = errors_ber(self.msg_bits, decoded_bits_tensor).item()\n",
        "        bler = errors_bler(self.msg_bits, decoded_bits_tensor).item()\n",
        "        print(f\"SC Decoder Performance - BER: {ber:.6f}, BLER: {bler:.6f}\")\n",
        "\n",
        "    def _collect_llr_matrices(self, corrupted_batch, snr):\n",
        "        \"\"\"\n",
        "        Method to separately collect LLR matrices during decoding.\n",
        "        This needs to be implemented based on how your polar code operates.\n",
        "        \"\"\"\n",
        "        # Since this is highly dependent on the PolarCode implementation,\n",
        "        # we need to modify the PolarCode class to expose the LLR matrices\n",
        "        # For now, creating a placeholder matrix of correct size\n",
        "        batch_size = corrupted_batch.shape[0]\n",
        "        llr_matrix = torch.zeros((batch_size, self.n+1, self.N), device=corrupted_batch.device)\n",
        "\n",
        "        # This is where we would collect the actual LLR matrices\n",
        "        # This may require modifying the PolarCode class\n",
        "\n",
        "        return llr_matrix\n",
        "\n",
        "    def __len__(self):\n",
        "        return len(self.msg_bits)\n",
        "\n",
        "    def __getitem__(self, idx):\n",
        "        return {\n",
        "            'msg_bits': self.msg_bits[idx],\n",
        "            'bpsk': self.bpsk[idx],\n",
        "            'corrupted_codeword': self.corrupted_codeword[idx],\n",
        "            'codeword': self.codeword[idx],\n",
        "            'decoded_bits': torch.tensor(self.decoded_bits[idx], dtype=torch.float32),\n",
        "            'llr_matrix': torch.tensor(self.llr_matrices[idx], dtype=torch.float32)\n",
        "        }"
      ]
    },
    {
      "cell_type": "code",
      "execution_count": 9,
      "metadata": {
        "id": "cMf6WTjXzn-A"
      },
      "outputs": [],
      "source": [
        "import torch\n",
        "import torch.nn as nn\n",
        "import torch.nn.functional as F\n",
        "\n",
        "class PolarLLRMatrixNet(nn.Module):\n",
        "    def __init__(self, n, K, hidden_channels=64):\n",
        "        super().__init__()\n",
        "        self.n = n\n",
        "        self.N = 2**n\n",
        "        self.K = K\n",
        "\n",
        "        # CNN layers\n",
        "        self.conv1 = nn.Conv2d(1, hidden_channels, kernel_size=3, padding=1)\n",
        "        self.bn1 = nn.BatchNorm2d(hidden_channels)\n",
        "        self.conv2 = nn.Conv2d(hidden_channels, hidden_channels*2, kernel_size=3, padding=1)\n",
        "        self.bn2 = nn.BatchNorm2d(hidden_channels*2)\n",
        "        self.pool = nn.MaxPool2d(2, 2)\n",
        "\n",
        "        # Compute output size after conv layers\n",
        "        with torch.no_grad():\n",
        "            dummy_input = torch.zeros(1, 1, n + 1, self.N)  # Shape: [B, C, H, W]\n",
        "            x = self.pool(F.relu(self.bn1(self.conv1(dummy_input))))\n",
        "            x = F.relu(self.bn2(self.conv2(x)))\n",
        "            self.flattened_size = x.view(1, -1).shape[1]\n",
        "\n",
        "        # Fully connected layers\n",
        "        self.fc1 = nn.Linear(self.flattened_size, hidden_channels*4)\n",
        "        self.fc2 = nn.Linear(hidden_channels*4, hidden_channels*2)\n",
        "        self.fc3 = nn.Linear(hidden_channels*2, K)\n",
        "\n",
        "        # Regularization\n",
        "        self.dropout = nn.Dropout(0.2)\n",
        "        self.act = nn.ReLU()\n",
        "\n",
        "    def forward(self, x):\n",
        "        # Input: [B, n+1, N]\n",
        "        x = x.unsqueeze(1)  # [B, 1, n+1, N]\n",
        "        x = self.act(self.bn1(self.conv1(x)))\n",
        "        x = self.pool(x)\n",
        "        x = self.act(self.bn2(self.conv2(x)))\n",
        "        x = x.view(x.size(0), -1)\n",
        "        x = self.act(self.fc1(x))\n",
        "        x = self.dropout(x)\n",
        "        x = self.act(self.fc2(x))\n",
        "        x = self.dropout(x)\n",
        "        x = self.fc3(x)\n",
        "        return x"
      ]
    },
    {
      "cell_type": "code",
      "execution_count": 21,
      "metadata": {
        "id": "Z1__EwtWzrYB"
      },
      "outputs": [],
      "source": [
        "import os\n",
        "import torch\n",
        "import csv\n",
        "from tqdm import tqdm\n",
        "\n",
        "def train_llr_matrix_model(model, train_loader, val_loader, criterion, optimizer, num_epochs, device,\n",
        "                           patience=50, n=5, K=16, snr=1.0, log_dir=\"training_logs\"):\n",
        "    best_val_loss = float('inf')\n",
        "    trigger_times = 0\n",
        "\n",
        "    train_loss_values = []\n",
        "    train_ber_values = []\n",
        "    train_bler_values = []\n",
        "    val_loss_values = []\n",
        "    val_ber_values = []\n",
        "    val_bler_values = []\n",
        "\n",
        "    # Logging setup\n",
        "    os.makedirs(log_dir, exist_ok=True)\n",
        "    log_path = os.path.join(log_dir, f'train_log_N_{2**n}_K_{K}_SNR_{snr}.csv')\n",
        "    with open(log_path, 'w', newline='') as f:\n",
        "        writer = csv.writer(f)\n",
        "        writer.writerow(['Epoch', 'Train Loss', 'Val Loss', 'Train BER', 'Val BER', 'Train BLER', 'Val BLER'])\n",
        "\n",
        "    for epoch in range(num_epochs):\n",
        "        model.train()\n",
        "        train_total_loss, train_total_ber, train_total_bler = 0, 0, 0\n",
        "\n",
        "        for batch in tqdm(train_loader, desc=f\"Epoch {epoch+1}/{num_epochs} [Training]\", leave=False):\n",
        "            msg_bits = batch['msg_bits'].to(device)\n",
        "            llr_matrix = batch['llr_matrix'].to(device)\n",
        "\n",
        "            optimizer.zero_grad()\n",
        "            outputs = model(llr_matrix)\n",
        "            loss = criterion(outputs, msg_bits)\n",
        "            loss.backward()\n",
        "            optimizer.step()\n",
        "\n",
        "            predicted_bits = torch.round(torch.sigmoid(outputs))\n",
        "            ber, bler = calculate_ber_bler(msg_bits, predicted_bits)\n",
        "\n",
        "            train_total_loss += loss.item()\n",
        "            train_total_ber += ber\n",
        "            train_total_bler += bler\n",
        "\n",
        "        train_avg_loss = train_total_loss / len(train_loader)\n",
        "        train_avg_ber = train_total_ber / len(train_loader)\n",
        "        train_avg_bler = train_total_bler / len(train_loader)\n",
        "\n",
        "        train_loss_values.append(train_avg_loss)\n",
        "        train_ber_values.append(train_avg_ber)\n",
        "        train_bler_values.append(train_avg_bler)\n",
        "\n",
        "        model.eval()\n",
        "        val_total_loss, val_total_ber, val_total_bler = 0, 0, 0\n",
        "\n",
        "        with torch.no_grad():\n",
        "            for batch in tqdm(val_loader, desc=f\"Epoch {epoch+1}/{num_epochs} [Validation]\", leave=False):\n",
        "                msg_bits = batch['msg_bits'].to(device)\n",
        "                llr_matrix = batch['llr_matrix'].to(device)\n",
        "\n",
        "                outputs = model(llr_matrix)\n",
        "                loss = criterion(outputs, msg_bits)\n",
        "\n",
        "                predicted_bits = torch.round(torch.sigmoid(outputs))\n",
        "                ber, bler = calculate_ber_bler(msg_bits, predicted_bits)\n",
        "\n",
        "                val_total_loss += loss.item()\n",
        "                val_total_ber += ber\n",
        "                val_total_bler += bler\n",
        "\n",
        "        val_avg_loss = val_total_loss / len(val_loader)\n",
        "        val_avg_ber = val_total_ber / len(val_loader)\n",
        "        val_avg_bler = val_total_bler / len(val_loader)\n",
        "\n",
        "        val_loss_values.append(val_avg_loss)\n",
        "        val_ber_values.append(val_avg_ber)\n",
        "        val_bler_values.append(val_avg_bler)\n",
        "\n",
        "        # Save to log file\n",
        "        with open(log_path, 'a', newline='') as f:\n",
        "            writer = csv.writer(f)\n",
        "            writer.writerow([epoch + 1, train_avg_loss, val_avg_loss, train_avg_ber, val_avg_ber, train_avg_bler, val_avg_bler])\n",
        "\n",
        "        # Save best model\n",
        "        if val_avg_loss < best_val_loss:\n",
        "            best_val_loss = val_avg_loss\n",
        "            trigger_times = 0\n",
        "\n",
        "            save_dir = f'weights_llr_matrix/N_{2**n}_K_{K}_SNR_{snr}_hidden_{model.fc1.in_features}'\n",
        "            os.makedirs(save_dir, exist_ok=True)\n",
        "            torch.save(model.state_dict(), os.path.join(save_dir, f'epoch_{epoch + 1}.pth'))\n",
        "        else:\n",
        "            trigger_times += 1\n",
        "            if trigger_times >= patience:\n",
        "                print(f\"⏹️ Early stopping at epoch {epoch + 1}!\")\n",
        "                torch.save(model.state_dict(), os.path.join(save_dir, f'epoch_{epoch + 1}.pth'))\n",
        "                break\n",
        "\n",
        "        # Print progress every epoch\n",
        "        if ((epoch+1)%5==0):\n",
        "            print(f\"[Epoch {epoch+1}] Train Loss: {train_avg_loss:.4f}, Val Loss: {val_avg_loss:.4f}\")\n",
        "            print(f\"              Train BER: {train_avg_ber:.4f}, Val BER: {val_avg_ber:.4f}\")\n",
        "            print(f\"              Train BLER: {train_avg_bler:.4f}, Val BLER: {val_avg_bler:.4f}\")\n",
        "\n",
        "    print(f'✅ Training complete. Best val loss: {best_val_loss:.4f} at epoch {epoch + 1 - trigger_times}')\n",
        "    print(f\"📁 Logs saved to: {log_path}\")\n",
        "    return train_loss_values, train_ber_values, train_bler_values, val_loss_values, val_ber_values, val_bler_values"
      ]
    },
    {
      "cell_type": "code",
      "execution_count": 11,
      "metadata": {
        "id": "u38pvFMkz2qS"
      },
      "outputs": [],
      "source": [
        "# Utility function for calculating BER and BLER\n",
        "def calculate_ber_bler(targets, predictions):\n",
        "    ber = errors_ber(targets, predictions).item()\n",
        "    bler = errors_bler(targets, predictions).item()\n",
        "    return ber, bler\n",
        "\n",
        "# Function to visualize the LLR matrix\n",
        "def visualize_llr_matrix(llr_matrix, title=\"LLR Matrix\"):\n",
        "    plt.figure(figsize=(12, 8))\n",
        "    plt.imshow(llr_matrix, cmap='viridis', aspect='auto')\n",
        "    plt.colorbar(label='LLR Value')\n",
        "    plt.title(title)\n",
        "    plt.xlabel('N (Codeword Length)')\n",
        "    plt.ylabel('Decoding Stage (log2N + 1)')\n",
        "    plt.tight_layout()\n",
        "    plt.show()"
      ]
    },
    {
      "cell_type": "code",
      "execution_count": 12,
      "metadata": {
        "id": "OLo4fBuo8Wj7"
      },
      "outputs": [],
      "source": [
        "seed = 42\n",
        "random.seed(seed)\n",
        "np.random.seed(seed)\n",
        "torch.manual_seed(seed)\n",
        "torch.cuda.manual_seed(seed)\n",
        "torch.backends.cudnn.deterministic = True\n",
        "\n",
        "# Parameters\n",
        "n = 5\n",
        "N = 2**n\n",
        "K = 16\n",
        "snr = 1\n",
        "batch_size = 64\n",
        "num_epochs = 400\n",
        "learning_rate = 0.001\n",
        "hidden_channels = 64"
      ]
    },
    {
      "cell_type": "code",
      "execution_count": 13,
      "metadata": {
        "colab": {
          "base_uri": "https://localhost:8080/"
        },
        "id": "39F0lWSE8eUs",
        "outputId": "80f40d81-fb14-45d0-cb3d-a129d06ee07c"
      },
      "outputs": [
        {
          "output_type": "stream",
          "name": "stdout",
          "text": [
            "Creating dataset...\n",
            "Loading data from polar_dataset_N32_K16_SNR1_samples20000.npz\n",
            "Generating decoded bits and LLR matrices for all samples...\n",
            "sc_decode_new returns 3 values\n"
          ]
        },
        {
          "output_type": "stream",
          "name": "stderr",
          "text": [
            "100%|██████████| 200/200 [00:25<00:00,  7.74it/s]\n"
          ]
        },
        {
          "output_type": "stream",
          "name": "stdout",
          "text": [
            "Decoded bits shape: (20000, 16)\n",
            "LLR matrices shape: (20000, 6, 32)\n",
            "Saving decoded bits to decodedbits_dataset_N32_K16_SNR1_samples20000.npz\n",
            "SC Decoder Performance - BER: 0.106681, BLER: 0.255250\n"
          ]
        }
      ],
      "source": [
        "# Device configuration\n",
        "device = torch.device('cuda' if torch.cuda.is_available() else 'cpu')\n",
        "\n",
        "# Path to data\n",
        "data_path = f'polar_dataset_N{N}_K{K}_SNR{snr}_samples20000.npz'\n",
        "save_decoded_path = f'decodedbits_dataset_N{N}_K{K}_SNR{snr}_samples20000.npz'\n",
        "\n",
        "# Step 1: Modify the PolarCode class to include the updated sc_decode_new method\n",
        "# This would typically be done by editing polar.py directly\n",
        "\n",
        "# Step 2: Create the dataset with the modified PolarDatasetWithLLRMatrix class\n",
        "print(\"Creating dataset...\")\n",
        "dataset = PolarDatasetWithLLRMatrix(data_path, n, K, snr, save_decoded_path)"
      ]
    },
    {
      "cell_type": "code",
      "execution_count": 14,
      "metadata": {
        "colab": {
          "base_uri": "https://localhost:8080/",
          "height": 1000
        },
        "id": "GTjkLHDr8m_c",
        "outputId": "49cb0d73-f7fa-40a1-eb95-517cb34baf01"
      },
      "outputs": [
        {
          "output_type": "stream",
          "name": "stdout",
          "text": [
            "{'msg_bits': tensor([0., 1., 0., 1., 1., 1., 1., 1., 0., 1., 0., 1., 0., 0., 1., 1.]), 'bpsk': tensor([ 1., -1.,  1., -1., -1., -1., -1., -1.,  1., -1.,  1., -1.,  1.,  1.,\n",
            "        -1., -1.]), 'corrupted_codeword': tensor([ 0.2163, -1.7220,  1.6050, -0.6995,  0.5285, -0.1689, -0.3973,  1.1281,\n",
            "         0.9450, -0.9664,  1.1941,  3.1347,  1.3586,  2.5039, -1.4455, -0.6970,\n",
            "        -0.1811, -0.8900,  1.5199, -0.5775, -0.7067, -0.3711, -1.5820, -0.8537,\n",
            "         0.8244, -0.0742, -1.3483,  1.9098, -0.0934, -2.8342,  1.5337, -1.1212]), 'codeword': tensor([ 1., -1.,  1., -1.,  1., -1., -1.,  1., -1., -1.,  1.,  1.,  1.,  1.,\n",
            "         1.,  1., -1., -1., -1., -1.,  1.,  1., -1., -1.,  1., -1., -1.,  1.,\n",
            "         1., -1.,  1., -1.]), 'decoded_bits': tensor([1., 0., 1., 1., 0., 0., 0., 1., 0., 1., 0., 1., 0., 0., 1., 1.]), 'llr_matrix': tensor([[ 2.0000e+01,  2.0001e+01,  1.9876e+01,  2.0257e+01,  2.0000e+01,\n",
            "          1.9988e+01,  2.0073e+01, -3.0324e+00,  2.0277e+01,  2.2022e+01,\n",
            "          2.3792e+01,  9.0221e+00,  2.2302e+01, -9.0560e+00, -1.2005e+01,\n",
            "          2.7187e+01,  1.9948e+01,  2.0644e+01,  1.9266e+01,  4.7220e+00,\n",
            "          1.9210e+01,  2.5797e+00, -3.5032e+00,  1.8033e+01,  2.3945e+01,\n",
            "         -9.4207e+00,  1.3838e+01, -3.1293e+01,  1.1751e+01,  3.0850e+01,\n",
            "         -3.8466e+01, -8.0212e+01],\n",
            "        [-1.1069e-03,  2.1255e-03,  6.5350e-01, -3.9627e-01, -1.2559e-02,\n",
            "          6.6119e-04, -2.9510e+00, -8.1456e-02,  4.2055e-01,  1.6010e+00,\n",
            "          4.2839e+00,  4.7381e+00, -2.3134e+00, -6.7426e+00, -1.2050e+01,\n",
            "          1.5137e+01,  7.8434e-01, -1.4075e-01,  5.4633e+00, -7.4130e-01,\n",
            "          3.4290e+00, -8.4933e-01, -1.4529e+01,  3.5033e+00, -5.0961e+00,\n",
            "         -4.3247e+00, -1.7426e+01, -1.3866e+01,  1.1751e+01,  1.9099e+01,\n",
            "          3.8505e+01, -4.1707e+01],\n",
            "        [-3.4899e-03, -1.1175e-02,  6.5699e-01, -3.8510e-01,  1.3925e-02,\n",
            "         -5.9054e-02, -2.9649e+00, -2.2402e-02,  4.3953e-01,  1.9543e+00,\n",
            "          3.8444e+00,  2.7839e+00,  2.3140e+00, -8.0958e+00, -9.7357e+00,\n",
            "          7.0415e+00,  8.0093e-01, -1.0381e+00,  4.6624e+00,  2.9677e-01,\n",
            "         -3.4295e+00, -8.7376e-01, -1.1100e+01,  4.3770e+00,  5.0968e+00,\n",
            "          4.3301e+00, -1.2330e+01, -9.5363e+00,  1.1751e+01, -1.9130e+01,\n",
            "          2.6754e+01, -2.2576e+01],\n",
            "        [-7.6921e-02,  1.2316e-01, -2.1053e+00,  9.2375e-01,  9.0846e-02,\n",
            "         -1.8221e-01, -8.5961e-01, -9.4615e-01,  1.6538e+00, -1.9695e+00,\n",
            "         -5.7260e+00,  3.8217e+00,  6.6026e-01, -6.1263e+00, -4.0096e+00,\n",
            "          3.2198e+00, -9.7377e-01, -2.2335e+00, -6.1939e+00,  3.0725e-01,\n",
            "         -2.4557e+00,  1.3597e+00, -4.9060e+00,  4.0698e+00,  5.4558e+00,\n",
            "         -4.3301e+00, -1.4270e+01,  1.3009e+01,  6.2955e+00, -1.4800e+01,\n",
            "          1.2485e+01, -9.5679e+00],\n",
            "        [-1.1928e-01,  2.1262e+00,  3.2356e+00,  9.4208e-01, -8.8051e-01,\n",
            "          1.8318e-01,  9.5780e-01, -1.7501e+00,  1.5345e+00,  1.5664e-01,\n",
            "         -2.4905e+00,  4.7638e+00, -2.2025e-01, -5.9431e+00, -3.0518e+00,\n",
            "          1.4697e+00, -1.0006e+00, -6.5766e+00,  7.8681e+00,  3.0725e-01,\n",
            "         -3.1099e+00, -1.3597e+00, -4.9836e+00, -4.9900e+00,  4.4551e+00,\n",
            "          2.2464e+00, -6.4014e+00,  1.2701e+01,  3.1856e+00, -1.3441e+01,\n",
            "          7.5011e+00, -4.5778e+00],\n",
            "        [ 5.4455e-01, -4.3357e+00,  4.0413e+00, -1.7612e+00,  1.3307e+00,\n",
            "         -4.2529e-01, -1.0004e+00,  2.8405e+00,  2.3794e+00, -2.4334e+00,\n",
            "          3.0065e+00,  7.8927e+00,  3.4208e+00,  6.3045e+00, -3.6396e+00,\n",
            "         -1.7549e+00, -4.5607e-01, -2.2408e+00,  3.8269e+00, -1.4540e+00,\n",
            "         -1.7793e+00, -9.3445e-01, -3.9832e+00, -2.1495e+00,  2.0758e+00,\n",
            "         -1.8694e-01, -3.3949e+00,  4.8085e+00, -2.3526e-01, -7.1361e+00,\n",
            "          3.8615e+00, -2.8229e+00]])}\n"
          ]
        },
        {
          "output_type": "display_data",
          "data": {
            "text/plain": [
              "<Figure size 1200x800 with 2 Axes>"
            ],
            "image/png": "[encoded data removed]"
          },
          "metadata": {}
        }
      ],
      "source": [
        "# Visualize an example LLR matrix\n",
        "sample_idx = 100\n",
        "sample = dataset[sample_idx]\n",
        "print(sample)\n",
        "visualize_llr_matrix(sample['llr_matrix'].numpy(), title=f\"Example LLR Matrix (Sample {sample_idx})\")"
      ]
    },
    {
      "cell_type": "code",
      "execution_count": 15,
      "metadata": {
        "colab": {
          "base_uri": "https://localhost:8080/"
        },
        "id": "Ds_qUavEAxth",
        "outputId": "4f8902f6-e104-43c8-8738-4fd4c0d1231f"
      },
      "outputs": [
        {
          "output_type": "stream",
          "name": "stderr",
          "text": [
            "/usr/local/lib/python3.11/dist-packages/torch/utils/data/dataloader.py:624: UserWarning: This DataLoader will create 4 worker processes in total. Our suggested max number of worker in current system is 2, which is smaller than what this DataLoader is going to create. Please be aware that excessive worker creation might get DataLoader running slow or even freeze, lower the worker number to avoid potential slowness/freeze if necessary.\n",
            "  warnings.warn(\n"
          ]
        }
      ],
      "source": [
        "# Split dataset\n",
        "train_size = int(0.8 * len(dataset))\n",
        "val_size = int(0.1 * len(dataset))\n",
        "test_size = len(dataset) - train_size - val_size\n",
        "\n",
        "train_dataset, val_dataset, test_dataset = torch.utils.data.random_split(\n",
        "    dataset, [train_size, val_size, test_size]\n",
        ")\n",
        "\n",
        "# Create data loaders\n",
        "train_loader = torch.utils.data.DataLoader(\n",
        "    train_dataset, batch_size=batch_size, shuffle=True, num_workers=4\n",
        ")\n",
        "val_loader = torch.utils.data.DataLoader(\n",
        "    val_dataset, batch_size=batch_size, shuffle=False, num_workers=4\n",
        ")\n",
        "test_loader = torch.utils.data.DataLoader(\n",
        "    test_dataset, batch_size=batch_size, shuffle=False, num_workers=4\n",
        ")"
      ]
    },
    {
      "cell_type": "code",
      "execution_count": 22,
      "metadata": {
        "id": "M7J0j53RFBEy"
      },
      "outputs": [],
      "source": [
        "# Initialize the model\n",
        "model = PolarLLRMatrixNet(n, K, hidden_channels).to(device)\n",
        "\n",
        "# Loss and optimizer\n",
        "criterion = nn.BCEWithLogitsLoss()\n",
        "optimizer = torch.optim.Adam(model.parameters(), lr=learning_rate)"
      ]
    },
    {
      "cell_type": "code",
      "execution_count": 23,
      "metadata": {
        "colab": {
          "base_uri": "https://localhost:8080/"
        },
        "id": "JTXkh3qeFDa9",
        "outputId": "0babfd3f-d229-4b50-ce3a-ad8078d91973"
      },
      "outputs": [
        {
          "output_type": "stream",
          "name": "stderr",
          "text": []
        },
        {
          "output_type": "stream",
          "name": "stdout",
          "text": [
            "[Epoch 5] Train Loss: 0.2775, Val Loss: 0.2590\n",
            "              Train BER: 0.1248, Val BER: 0.1089\n",
            "              Train BLER: 0.4992, Val BLER: 0.3643\n"
          ]
        },
        {
          "output_type": "stream",
          "name": "stderr",
          "text": []
        },
        {
          "output_type": "stream",
          "name": "stdout",
          "text": [
            "[Epoch 10] Train Loss: 0.2535, Val Loss: 0.2720\n",
            "              Train BER: 0.1175, Val BER: 0.1125\n",
            "              Train BLER: 0.4625, Val BLER: 0.3496\n"
          ]
        },
        {
          "output_type": "stream",
          "name": "stderr",
          "text": []
        },
        {
          "output_type": "stream",
          "name": "stdout",
          "text": [
            "[Epoch 15] Train Loss: 0.2294, Val Loss: 0.2924\n",
            "              Train BER: 0.1115, Val BER: 0.1036\n",
            "              Train BLER: 0.4442, Val BLER: 0.2998\n"
          ]
        },
        {
          "output_type": "stream",
          "name": "stderr",
          "text": []
        },
        {
          "output_type": "stream",
          "name": "stdout",
          "text": [
            "[Epoch 20] Train Loss: 0.2059, Val Loss: 0.3172\n",
            "              Train BER: 0.1046, Val BER: 0.1054\n",
            "              Train BLER: 0.4288, Val BLER: 0.3022\n"
          ]
        },
        {
          "output_type": "stream",
          "name": "stderr",
          "text": []
        },
        {
          "output_type": "stream",
          "name": "stdout",
          "text": [
            "[Epoch 25] Train Loss: 0.1882, Val Loss: 0.2801\n",
            "              Train BER: 0.0979, Val BER: 0.1132\n",
            "              Train BLER: 0.4076, Val BLER: 0.3423\n"
          ]
        },
        {
          "output_type": "stream",
          "name": "stderr",
          "text": []
        },
        {
          "output_type": "stream",
          "name": "stdout",
          "text": [
            "[Epoch 30] Train Loss: 0.1722, Val Loss: 0.3225\n",
            "              Train BER: 0.0903, Val BER: 0.1110\n",
            "              Train BLER: 0.3862, Val BLER: 0.3154\n"
          ]
        },
        {
          "output_type": "stream",
          "name": "stderr",
          "text": []
        },
        {
          "output_type": "stream",
          "name": "stdout",
          "text": [
            "[Epoch 35] Train Loss: 0.1598, Val Loss: 0.3286\n",
            "              Train BER: 0.0842, Val BER: 0.1112\n",
            "              Train BLER: 0.3703, Val BLER: 0.3281\n"
          ]
        },
        {
          "output_type": "stream",
          "name": "stderr",
          "text": []
        },
        {
          "output_type": "stream",
          "name": "stdout",
          "text": [
            "[Epoch 40] Train Loss: 0.1501, Val Loss: 0.3436\n",
            "              Train BER: 0.0786, Val BER: 0.1114\n",
            "              Train BLER: 0.3554, Val BLER: 0.3354\n"
          ]
        },
        {
          "output_type": "stream",
          "name": "stderr",
          "text": []
        },
        {
          "output_type": "stream",
          "name": "stdout",
          "text": [
            "[Epoch 45] Train Loss: 0.1412, Val Loss: 0.3667\n",
            "              Train BER: 0.0736, Val BER: 0.1114\n",
            "              Train BLER: 0.3395, Val BLER: 0.3345\n"
          ]
        },
        {
          "output_type": "stream",
          "name": "stderr",
          "text": []
        },
        {
          "output_type": "stream",
          "name": "stdout",
          "text": [
            "[Epoch 50] Train Loss: 0.1359, Val Loss: 0.4340\n",
            "              Train BER: 0.0709, Val BER: 0.1091\n",
            "              Train BLER: 0.3330, Val BLER: 0.3169\n"
          ]
        },
        {
          "output_type": "stream",
          "name": "stderr",
          "text": []
        },
        {
          "output_type": "stream",
          "name": "stdout",
          "text": [
            "[Epoch 55] Train Loss: 0.1293, Val Loss: 0.4818\n",
            "              Train BER: 0.0658, Val BER: 0.1075\n",
            "              Train BLER: 0.3202, Val BLER: 0.3096\n"
          ]
        },
        {
          "output_type": "stream",
          "name": "stderr",
          "text": []
        },
        {
          "output_type": "stream",
          "name": "stdout",
          "text": [
            "[Epoch 60] Train Loss: 0.1256, Val Loss: 0.4724\n",
            "              Train BER: 0.0638, Val BER: 0.1090\n",
            "              Train BLER: 0.3171, Val BLER: 0.3130\n"
          ]
        },
        {
          "output_type": "stream",
          "name": "stderr",
          "text": [
            "                                                                          "
          ]
        },
        {
          "output_type": "stream",
          "name": "stdout",
          "text": [
            "⏹️ Early stopping at epoch 61!\n",
            "✅ Training complete. Best val loss: 0.2515 at epoch 11\n",
            "📁 Logs saved to: training_logs/train_log_N_32_K_16_SNR_1.0.csv\n"
          ]
        },
        {
          "output_type": "stream",
          "name": "stderr",
          "text": [
            "\r"
          ]
        }
      ],
      "source": [
        "# Train the model\n",
        "train_metrics = train_llr_matrix_model(\n",
        "    model, train_loader, val_loader, criterion, optimizer, num_epochs, device\n",
        ")"
      ]
    },
    {
      "cell_type": "code",
      "execution_count": 24,
      "metadata": {
        "colab": {
          "base_uri": "https://localhost:8080/"
        },
        "id": "-zkP0x-4w9Q3",
        "outputId": "4020e1ce-ce39-4f34-f14e-dec6f5c99941"
      },
      "outputs": [
        {
          "output_type": "execute_result",
          "data": {
            "text/plain": [
              "61"
            ]
          },
          "metadata": {},
          "execution_count": 24
        }
      ],
      "source": [
        "len(train_metrics[0])"
      ]
    },
    {
      "cell_type": "code",
      "source": [
        "plt.suptitle('convergence plot for polarnet for N=32,K=16 and snr=1dB, hidden_size=64 with no dropout')\n",
        "# Plot Loss vs Epochs\n",
        "plt.subplot(1, 3, 1)\n",
        "plt.plot(train_metrics[0], label='train_Loss')\n",
        "plt.title('Loss vs Epochs')\n",
        "plt.xlabel('Epochs')\n",
        "plt.ylabel('Train Loss')\n",
        "plt.legend()\n",
        "\n",
        "# Plot BER vs Epochs\n",
        "plt.subplot(1, 3, 2)\n",
        "plt.plot(train_metrics[1], label='train_BER', color='orange')\n",
        "plt.title('BER vs Epochs')\n",
        "plt.xlabel('Epochs')\n",
        "plt.ylabel('BER')\n",
        "plt.legend()\n",
        "\n",
        "# Plot BLER vs Epochs\n",
        "\n",
        "plt.subplot(1, 3, 3)\n",
        "plt.plot(train_metrics[2], label='train_BLER', color='green')\n",
        "plt.title('BLER vs Epochs')\n",
        "plt.xlabel('Epochs')\n",
        "plt.ylabel('BLER')\n",
        "plt.legend()\n",
        "\n",
        "plt.tight_layout()\n",
        "plt.show()"
      ],
      "metadata": {
        "colab": {
          "base_uri": "https://localhost:8080/",
          "height": 492
        },
        "id": "a-QqeFJYQMHl",
        "outputId": "d0334011-ad6a-4ae3-dae0-db02d6544261"
      },
      "execution_count": 28,
      "outputs": [
        {
          "output_type": "display_data",
          "data": {
            "text/plain": [
              "<Figure size 640x480 with 3 Axes>"
            ],
            "image/png": "[encoded data removed]"
          },
          "metadata": {}
        }
      ]
    },
    {
      "cell_type": "code",
      "execution_count": 29,
      "metadata": {
        "colab": {
          "base_uri": "https://localhost:8080/",
          "height": 492
        },
        "id": "tPuZEgUVwjsl",
        "outputId": "1247e128-2676-4fd5-9c63-69aabf62a1db"
      },
      "outputs": [
        {
          "output_type": "display_data",
          "data": {
            "text/plain": [
              "<Figure size 640x480 with 3 Axes>"
            ],
            "image/png": "[encoded data removed]"
          },
          "metadata": {}
        }
      ],
      "source": [
        "plt.suptitle('convergence plot for polarnet for N=32,K=16 and snr=2dB, hidden_size=64 with no dropout')\n",
        "# Plot Loss vs Epochs\n",
        "plt.subplot(1, 3, 1)\n",
        "plt.plot(train_metrics[3], label='val_Loss')\n",
        "plt.title('Loss vs Epochs')\n",
        "plt.xlabel('Epochs')\n",
        "plt.ylabel('Validation Loss')\n",
        "plt.legend()\n",
        "\n",
        "# Plot BER vs Epochs\n",
        "plt.subplot(1, 3, 2)\n",
        "plt.plot(train_metrics[4], label='val_BER', color='orange')\n",
        "plt.title('BER vs Epochs')\n",
        "plt.xlabel('Epochs')\n",
        "plt.ylabel('BER')\n",
        "plt.legend()\n",
        "\n",
        "# Plot BLER vs Epochs\n",
        "\n",
        "plt.subplot(1, 3, 3)\n",
        "plt.plot(train_metrics[5], label='val_BLER', color='green')\n",
        "plt.title('BLER vs Epochs')\n",
        "plt.xlabel('Epochs')\n",
        "plt.ylabel('BLER')\n",
        "plt.legend()\n",
        "\n",
        "plt.tight_layout()\n",
        "plt.show()"
      ]
    },
    {
      "cell_type": "code",
      "execution_count": 30,
      "metadata": {
        "id": "81apCfVTxuXS",
        "colab": {
          "base_uri": "https://localhost:8080/"
        },
        "outputId": "65640055-484f-4288-8189-d07e9c911368"
      },
      "outputs": [
        {
          "output_type": "execute_result",
          "data": {
            "text/plain": [
              "<All keys matched successfully>"
            ]
          },
          "metadata": {},
          "execution_count": 30
        }
      ],
      "source": [
        "model.load_state_dict(torch.load(r'/content/PolarNet/weights_llr_matrix/N_32_K_16_SNR_1.0_hidden_6144/epoch_61.pth'),strict=True)\n"
      ]
    },
    {
      "cell_type": "code",
      "execution_count": 32,
      "metadata": {
        "id": "CL68Evbux7c4",
        "colab": {
          "base_uri": "https://localhost:8080/"
        },
        "outputId": "8381f7db-db55-4d3f-88d3-52b401338d15"
      },
      "outputs": [
        {
          "output_type": "stream",
          "name": "stdout",
          "text": [
            "Testing model at SNR=1.0dB...\n",
            "\n",
            "Batch 1\n",
            "Original: [0, 0, 0, 1, 1, 0, 0, 0, 1, 1, 1, 0, 0, 0, 1, 0]\n",
            "Predicted: [0, 0, 0, 1, 0, 0, 0, 0, 1, 1, 1, 0, 0, 0, 1, 0]\n",
            "BER: 0.0977, BLER: 0.2969\n",
            "❌ Errors\n",
            "\n",
            "Batch 2\n",
            "Original: [0, 1, 1, 1, 1, 0, 0, 1, 1, 1, 1, 0, 0, 1, 1, 0]\n",
            "Predicted: [0, 1, 1, 1, 1, 0, 0, 1, 1, 1, 1, 0, 0, 1, 1, 0]\n",
            "BER: 0.1484, BLER: 0.4062\n",
            "✅ Correct\n",
            "\n",
            "Batch 3\n",
            "Original: [1, 0, 1, 0, 1, 0, 1, 0, 1, 1, 1, 0, 0, 1, 1, 0]\n",
            "Predicted: [1, 0, 1, 0, 1, 0, 1, 0, 1, 1, 1, 0, 0, 1, 1, 0]\n",
            "BER: 0.1025, BLER: 0.2969\n",
            "✅ Correct\n",
            "\n",
            "Batch 4\n",
            "Original: [0, 1, 1, 0, 1, 0, 0, 0, 1, 0, 0, 0, 1, 0, 1, 0]\n",
            "Predicted: [0, 1, 1, 0, 1, 0, 0, 0, 1, 0, 0, 0, 1, 0, 1, 0]\n",
            "BER: 0.1123, BLER: 0.3281\n",
            "✅ Correct\n",
            "\n",
            "Batch 5\n",
            "Original: [1, 1, 1, 0, 0, 0, 1, 0, 1, 1, 0, 1, 1, 1, 0, 1]\n",
            "Predicted: [1, 1, 1, 0, 0, 0, 1, 0, 1, 1, 0, 1, 1, 1, 0, 1]\n",
            "BER: 0.1426, BLER: 0.3750\n",
            "✅ Correct\n",
            "\n",
            "Final Test Results:\n",
            "Average BER: 0.117065\n",
            "Average BLER: 0.351074\n",
            "Total batches tested: 32\n"
          ]
        }
      ],
      "source": [
        "# Initialize your model (assuming PolarLLRMatrixNet)\n",
        "model = PolarLLRMatrixNet(n=5, K=16, hidden_channels=64).to(device)\n",
        "\n",
        "# Load saved weights\n",
        "model_path = '/content/PolarNet/weights_llr_matrix/N_32_K_16_SNR_1.0_hidden_6144/epoch_61.pth'\n",
        "model.load_state_dict(torch.load(model_path, map_location=device), strict=True)\n",
        "model.eval()\n",
        "\n",
        "def test_model(test_loader, snr=1.0):\n",
        "    test_ber_total, test_bler_total = 0.0, 0.0\n",
        "    count = 0\n",
        "    num_batches_to_print = 5  # Print details for first N batches\n",
        "\n",
        "    with torch.no_grad():\n",
        "        print(f\"Testing model at SNR={snr}dB...\")\n",
        "        for batch_idx, test_batch in enumerate(test_loader):\n",
        "            count += 1\n",
        "\n",
        "            # Get batch data\n",
        "            msg_bits = test_batch['msg_bits'].to(device)\n",
        "            llr_matrix = test_batch['llr_matrix'].to(device)\n",
        "\n",
        "            # Forward pass\n",
        "            outputs = model(llr_matrix)\n",
        "            predicted_bits = torch.sigmoid(outputs)  # Get probabilities\n",
        "            predicted_bits = (predicted_bits > 0.5).float()  # Convert to binary 0/1\n",
        "\n",
        "            # Calculate metrics\n",
        "            ber, bler = calculate_ber_bler(msg_bits, predicted_bits)\n",
        "            test_ber_total += ber\n",
        "            test_bler_total += bler\n",
        "\n",
        "            # Print debug info\n",
        "            if batch_idx < num_batches_to_print:\n",
        "                print(f\"\\nBatch {batch_idx + 1}\")\n",
        "                print(f\"Original: {msg_bits[0].int().tolist()}\")\n",
        "                print(f\"Predicted: {predicted_bits[0].int().tolist()}\")\n",
        "                print(f\"BER: {ber:.4f}, BLER: {bler:.4f}\")\n",
        "                if torch.all(predicted_bits[0].round() == msg_bits[0]):\n",
        "                    print(\"✅ Correct\")\n",
        "                else:\n",
        "                    print(\"❌ Errors\")\n",
        "\n",
        "    # Calculate final metrics\n",
        "    test_avg_ber = test_ber_total / len(test_loader)\n",
        "    test_avg_bler = test_bler_total / len(test_loader)\n",
        "\n",
        "    print(\"\\nFinal Test Results:\")\n",
        "    print(f\"Average BER: {test_avg_ber:.6f}\")\n",
        "    print(f\"Average BLER: {test_avg_bler:.6f}\")\n",
        "    print(f\"Total batches tested: {count}\")\n",
        "\n",
        "    return test_avg_ber, test_avg_bler\n",
        "\n",
        "# Run the test\n",
        "test_ber, test_bler = test_model(test_loader, snr=1.0)"
      ]
    },
    {
      "cell_type": "code",
      "execution_count": 35,
      "metadata": {
        "id": "9Ly-eUZxx9az",
        "colab": {
          "base_uri": "https://localhost:8080/"
        },
        "outputId": "8e51d2a4-1723-4232-9db9-f61ab192301c"
      },
      "outputs": [
        {
          "output_type": "execute_result",
          "data": {
            "text/plain": [
              "<All keys matched successfully>"
            ]
          },
          "metadata": {},
          "execution_count": 35
        }
      ],
      "source": [
        "model.load_state_dict(torch.load(r'/content/PolarNet/weights_llr_matrix/N_32_K_16_SNR_1.0_hidden_6144/epoch_11.pth'),strict=True)"
      ]
    },
    {
      "cell_type": "code",
      "source": [
        "model.eval()\n",
        "test_ber, test_bler = test_model(test_loader, snr=1.0)"
      ],
      "metadata": {
        "colab": {
          "base_uri": "https://localhost:8080/"
        },
        "id": "1utsE6grQfZ-",
        "outputId": "539545b9-216e-4b90-9e58-e7c89f594113"
      },
      "execution_count": 36,
      "outputs": [
        {
          "output_type": "stream",
          "name": "stdout",
          "text": [
            "Testing model at SNR=1.0dB...\n"
          ]
        },
        {
          "output_type": "stream",
          "name": "stderr",
          "text": [
            "/usr/local/lib/python3.11/dist-packages/torch/utils/data/dataloader.py:624: UserWarning: This DataLoader will create 4 worker processes in total. Our suggested max number of worker in current system is 2, which is smaller than what this DataLoader is going to create. Please be aware that excessive worker creation might get DataLoader running slow or even freeze, lower the worker number to avoid potential slowness/freeze if necessary.\n",
            "  warnings.warn(\n"
          ]
        },
        {
          "output_type": "stream",
          "name": "stdout",
          "text": [
            "\n",
            "Batch 1\n",
            "Original: [0, 0, 0, 1, 1, 0, 0, 0, 1, 1, 1, 0, 0, 0, 1, 0]\n",
            "Predicted: [0, 0, 0, 1, 1, 0, 0, 0, 1, 1, 1, 0, 0, 0, 1, 0]\n",
            "BER: 0.1055, BLER: 0.2656\n",
            "✅ Correct\n",
            "\n",
            "Batch 2\n",
            "Original: [0, 1, 1, 1, 1, 0, 0, 1, 1, 1, 1, 0, 0, 1, 1, 0]\n",
            "Predicted: [0, 1, 1, 1, 1, 0, 0, 1, 1, 1, 1, 0, 0, 1, 1, 0]\n",
            "BER: 0.1426, BLER: 0.3750\n",
            "✅ Correct\n",
            "\n",
            "Batch 3\n",
            "Original: [1, 0, 1, 0, 1, 0, 1, 0, 1, 1, 1, 0, 0, 1, 1, 0]\n",
            "Predicted: [1, 0, 1, 0, 1, 0, 1, 0, 1, 1, 1, 0, 0, 1, 1, 0]\n",
            "BER: 0.1094, BLER: 0.2500\n",
            "✅ Correct\n",
            "\n",
            "Batch 4\n",
            "Original: [0, 1, 1, 0, 1, 0, 0, 0, 1, 0, 0, 0, 1, 0, 1, 0]\n",
            "Predicted: [0, 1, 1, 0, 1, 0, 0, 0, 1, 0, 0, 0, 1, 0, 1, 0]\n",
            "BER: 0.0977, BLER: 0.3438\n",
            "✅ Correct\n",
            "\n",
            "Batch 5\n",
            "Original: [1, 1, 1, 0, 0, 0, 1, 0, 1, 1, 0, 1, 1, 1, 0, 1]\n",
            "Predicted: [1, 1, 1, 0, 0, 0, 1, 0, 1, 1, 0, 1, 1, 1, 0, 1]\n",
            "BER: 0.1396, BLER: 0.3750\n",
            "✅ Correct\n",
            "\n",
            "Final Test Results:\n",
            "Average BER: 0.111908\n",
            "Average BLER: 0.312500\n",
            "Total batches tested: 32\n"
          ]
        }
      ]
    },
    {
      "cell_type": "code",
      "source": [],
      "metadata": {
        "id": "YU7ubkWGQfci"
      },
      "execution_count": null,
      "outputs": []
    }
  ],
  "metadata": {
    "colab": {
      "provenance": [],
      "gpuType": "T4"
    },
    "kernelspec": {
      "display_name": "Python 3",
      "name": "python3"
    },
    "language_info": {
      "name": "python"
    },
    "accelerator": "GPU"
  },
  "nbformat": 4,
  "nbformat_minor": 0
}