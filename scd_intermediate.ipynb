{
  "nbformat": 4,
  "nbformat_minor": 0,
  "metadata": {
    "colab": {
      "provenance": []
    },
    "kernelspec": {
      "name": "python3",
      "display_name": "Python 3"
    },
    "language_info": {
      "name": "python"
    }
  },
  "cells": [
    {
      "cell_type": "code",
      "execution_count": null,
      "metadata": {
        "id": "O2vLro03dT13",
        "colab": {
          "base_uri": "https://localhost:8080/"
        },
        "outputId": "86894a38-5ce1-49b6-fc32-573befa616f0"
      },
      "outputs": [
        {
          "output_type": "stream",
          "name": "stdout",
          "text": [
            "Cloning into 'PolarNet'...\n",
            "remote: Enumerating objects: 76, done.\u001b[K\n",
            "remote: Counting objects: 100% (76/76), done.\u001b[K\n",
            "remote: Compressing objects: 100% (63/63), done.\u001b[K\n",
            "remote: Total 76 (delta 22), reused 62 (delta 11), pack-reused 0 (from 0)\u001b[K\n",
            "Receiving objects: 100% (76/76), 3.46 MiB | 13.56 MiB/s, done.\n",
            "Resolving deltas: 100% (22/22), done.\n"
          ]
        }
      ],
      "source": [
        "!git clone https://github.com/pratyush-1/PolarNet.git"
      ]
    },
    {
      "cell_type": "code",
      "source": [
        "cd PolarNet/"
      ],
      "metadata": {
        "colab": {
          "base_uri": "https://localhost:8080/"
        },
        "id": "AVT_jdd_dZpY",
        "outputId": "aee5cfc2-2ce9-4222-ae2f-f0cdff5e1dc4"
      },
      "execution_count": null,
      "outputs": [
        {
          "output_type": "stream",
          "name": "stdout",
          "text": [
            "/content/PolarNet\n"
          ]
        }
      ]
    },
    {
      "cell_type": "code",
      "source": [
        "pwd"
      ],
      "metadata": {
        "colab": {
          "base_uri": "https://localhost:8080/",
          "height": 35
        },
        "id": "EnPDlTcx1K_P",
        "outputId": "a114588f-efb4-46bd-b211-5a1c2c4ade64"
      },
      "execution_count": null,
      "outputs": [
        {
          "output_type": "execute_result",
          "data": {
            "text/plain": [
              "'/content/PolarNet'"
            ],
            "application/vnd.google.colaboratory.intrinsic+json": {
              "type": "string"
            }
          },
          "metadata": {},
          "execution_count": 3
        }
      ]
    },
    {
      "cell_type": "code",
      "source": [
        "import torch\n",
        "import torch.nn as nn\n",
        "import numpy as np\n",
        "from tqdm.autonotebook import tqdm\n",
        "from polar import PolarCode, get_frozen\n",
        "from reliability_sequence import Reliability_Sequence\n",
        "from utils import errors_ber, errors_bler\n",
        "import matplotlib.pyplot as plt\n",
        "import random\n",
        "import os"
      ],
      "metadata": {
        "id": "E7AtQWZidZsM"
      },
      "execution_count": 136,
      "outputs": []
    },
    {
      "cell_type": "code",
      "source": [
        "n = 5\n",
        "N = 2**n\n",
        "K = 16\n",
        "snr = 2\n",
        "batch_size = 64\n",
        "num_samples = 1000\n",
        "seed = 42\n",
        "\n",
        "def set_seed(seed):\n",
        "    random.seed(seed)\n",
        "    np.random.seed(seed)\n",
        "    torch.manual_seed(seed)\n",
        "    torch.cuda.manual_seed(seed)\n",
        "    torch.cuda.manual_seed_all(seed)\n",
        "    torch.backends.cudnn.deterministic = True\n",
        "    torch.backends.cudnn.benchmark = False\n",
        "\n",
        "set_seed(seed)\n",
        "\n",
        "def seed_worker(worker_id):\n",
        "    worker_seed = torch.initial_seed() % 2**32\n",
        "    np.random.seed(worker_seed)\n",
        "    random.seed(worker_seed)\n",
        "g = torch.Generator()\n",
        "g.manual_seed(seed)"
      ],
      "metadata": {
        "id": "IVQHsJewdZuz",
        "colab": {
          "base_uri": "https://localhost:8080/"
        },
        "outputId": "6cf59d58-7f34-4449-bd68-275e686555fb"
      },
      "execution_count": 137,
      "outputs": [
        {
          "output_type": "execute_result",
          "data": {
            "text/plain": [
              "<torch._C.Generator at 0x7dd5334caa70>"
            ]
          },
          "metadata": {},
          "execution_count": 137
        }
      ]
    },
    {
      "cell_type": "code",
      "source": [
        "def create_data(num_samples, n, K, snr,rs):\n",
        "    \"\"\"\n",
        "    Parameters:\n",
        "    - num_samples: Total number of samples to generate\n",
        "    - batch_size: Batch size for data generation\n",
        "    - n: Polar code parameter\n",
        "    - K: Information bit length\n",
        "    - snr: Signal-to-Noise Ratio\n",
        "    - rs: Reliability Sequence\n",
        "\n",
        "    Returns:\n",
        "    - Saved .npz file with dataset\n",
        "    \"\"\"\n",
        "\n",
        "    msg_bits_list = []\n",
        "    bpsk_list = []\n",
        "    codeword_list = []\n",
        "    corrupted_codeword_list = []\n",
        "\n",
        "    polar = PolarCode(n, K, rs = rs, use_cuda=False,hard_decision=True)\n",
        "    # Loop to generate data samples\n",
        "    for i in range(num_samples):\n",
        "        msg_bits = (torch.rand(K) > 0.5).float()\n",
        "        bpsk = 1 - 2 * msg_bits\n",
        "\n",
        "        codeword = polar.encode(bpsk.unsqueeze(0)).squeeze(0)\n",
        "        corrupted_codewords = polar.channel(codeword.unsqueeze(0), snr).squeeze(0)\n",
        "\n",
        "        msg_bits_list.append(msg_bits.cpu().numpy())\n",
        "        bpsk_list.append(bpsk.cpu().numpy())\n",
        "        codeword_list.append(codeword.cpu().numpy())\n",
        "        corrupted_codeword_list.append(corrupted_codewords.cpu().numpy())\n",
        "\n",
        "        msg_bits_array = np.stack(msg_bits_list)\n",
        "        bpsk_array = np.stack(bpsk_list)\n",
        "        codeword_array = np.stack(codeword_list)\n",
        "        corrupted_codeword_array = np.stack(corrupted_codeword_list)\n",
        "\n",
        "    filename = f\"polar_dataset_N{2**n}_K{K}_SNR{snr}_samples{num_samples}.npz\"\n",
        "    np.savez(filename, msg_bits=msg_bits_array, corrupted_codeword=corrupted_codeword_array, bpsk=bpsk_array, codeword=codeword_array)\n",
        "    print(f\"Dataset saved as {filename}\")"
      ],
      "metadata": {
        "id": "Xuk3fnrHdiEb"
      },
      "execution_count": 138,
      "outputs": []
    },
    {
      "cell_type": "code",
      "source": [
        "# create_data(num_samples,n,K,snr,rs=Reliability_Sequence)"
      ],
      "metadata": {
        "id": "t0NHtHA8diHQ"
      },
      "execution_count": 139,
      "outputs": []
    },
    {
      "cell_type": "code",
      "source": [
        "def sc_decode_new(self, corrupted_codewords, return_llr_matrix=False):\n",
        "    B = corrupted_codewords.shape[0]\n",
        "    llr_array = torch.zeros(B, self.n + 1, self.N, device=corrupted_codewords.device)\n",
        "    decoded_bits = torch.zeros(B, self.N, device=corrupted_codewords.device)\n",
        "    partial_llrs = torch.zeros(B, self.n + 1, self.N, device=corrupted_codewords.device)\n",
        "    priors = torch.zeros(B, self.N, device=corrupted_codewords.device)\n",
        "\n",
        "    # Store LLR matrix only at root node level per bit (depth 0)\n",
        "    if return_llr_matrix:\n",
        "        llr_matrix = torch.zeros(B, self.N, device=corrupted_codewords.device)\n",
        "\n",
        "    # Initialize LLRs at depth = n (leaf level)\n",
        "    llr_array[:, self.n, :] = corrupted_codewords\n",
        "\n",
        "    for ii in range(self.N):\n",
        "        llr_array, decoded_bits = self.updateLLR(ii, llr_array.clone(), partial_llrs, priors)\n",
        "        if return_llr_matrix:\n",
        "            # Store the LLR value at the root node (depth = 0) for bit ii\n",
        "            llr_matrix[:, ii] = llr_array[:, 0, ii]\n",
        "            print(f\"Updated llr_matrix[{b}, {i}] = {llr_matrix[b, i]}\")\n",
        "\n",
        "    if return_llr_matrix:\n",
        "        return llr_matrix.clone(), decoded_bits\n",
        "    else:\n",
        "        return llr_array[:, 0, :].clone(), decoded_bits"
      ],
      "metadata": {
        "id": "HVQvR-939GUS"
      },
      "execution_count": 156,
      "outputs": []
    },
    {
      "cell_type": "code",
      "source": [],
      "metadata": {
        "id": "NkKrsOdx9wTg"
      },
      "execution_count": 156,
      "outputs": []
    },
    {
      "cell_type": "code",
      "source": [
        "class PolarDatasetWithLLRMatrix:\n",
        "    def __init__(self, data_path, n, K, snr, save_decoded_path=None):\n",
        "        \"\"\"\n",
        "        Dataset that processes polar codes and stores both decoded bits and LLR matrices\n",
        "\n",
        "        Args:\n",
        "            data_path (str): Path to the original data file (.npz)\n",
        "            n (int): Log2 of codeword length (N = 2^n)\n",
        "            K (int): Information length\n",
        "            snr (float): Signal-to-noise ratio in dB\n",
        "            save_decoded_path (str, optional): Path to save the decoded bits for future use\n",
        "        \"\"\"\n",
        "        self.n = n\n",
        "        self.N = 2**n\n",
        "        self.K = K\n",
        "        self.snr = snr\n",
        "\n",
        "        # Load the original data\n",
        "        print(f\"Loading data from {data_path}\")\n",
        "        data = np.load(data_path)\n",
        "\n",
        "        # Create polar code object\n",
        "        self.polar = PolarCode(n, K, rs=Reliability_Sequence, Fr=None, use_cuda=torch.cuda.is_available(), hard_decision=True)\n",
        "\n",
        "        # Store the data\n",
        "        self.msg_bits = torch.tensor(data['msg_bits'])\n",
        "        self.bpsk = torch.tensor(data['bpsk'])\n",
        "        self.corrupted_codeword = torch.tensor(data['corrupted_codeword'])\n",
        "        self.codeword = torch.tensor(data['codeword'])\n",
        "\n",
        "        # Generate decoded bits and LLR matrices in a single pass\n",
        "        self.decoded_bits = []\n",
        "        self.llr_matrices = []\n",
        "        print(\"Generating decoded bits and LLR matrices for all samples...\")\n",
        "\n",
        "        # First, make a test call to check the number of return values\n",
        "        test_batch = self.corrupted_codeword[:1]  # Just use the first sample\n",
        "        device = torch.device('cuda' if torch.cuda.is_available() and hasattr(self.polar, 'device') and self.polar.device.type == 'cuda' else 'cpu')\n",
        "        test_batch = test_batch.to(device)\n",
        "\n",
        "        # Try to call sc_decode_new and see what it returns\n",
        "        try:\n",
        "            result = self.polar.sc_decode_new(test_batch, snr=self.snr)\n",
        "            num_returns = len(result) if isinstance(result, tuple) else 1\n",
        "            print(f\"sc_decode_new returns {num_returns} values\")\n",
        "\n",
        "            # Modify our approach based on the return values\n",
        "            if num_returns == 2:\n",
        "                # If only 2 returns (likely final_llrs and decoded_bits)\n",
        "                print(\"Detected 2-value return pattern - will modify LLR matrix collection\")\n",
        "                collect_llr_matrix_separately = True\n",
        "            else:\n",
        "                # Assuming 3 returns as expected\n",
        "                collect_llr_matrix_separately = False\n",
        "\n",
        "        except Exception as e:\n",
        "            print(f\"Error during test call: {e}\")\n",
        "            # Default to separate collection if test fails\n",
        "            collect_llr_matrix_separately = True\n",
        "\n",
        "        # Process in batches to avoid memory issues\n",
        "        batch_size = 100\n",
        "        num_batches = len(self.msg_bits) // batch_size + (0 if len(self.msg_bits) % batch_size == 0 else 1)\n",
        "\n",
        "        for i in tqdm(range(num_batches)):\n",
        "            start_idx = i * batch_size\n",
        "            end_idx = min((i + 1) * batch_size, len(self.msg_bits))\n",
        "\n",
        "            corrupted_batch = self.corrupted_codeword[start_idx:end_idx]\n",
        "            # Move to appropriate device\n",
        "            corrupted_batch = corrupted_batch.to(device)\n",
        "\n",
        "            if collect_llr_matrix_separately:\n",
        "                try:\n",
        "                    # Try with return_llr_matrix parameter\n",
        "                    final_llrs, batch_decoded_bits = self.polar.sc_decode_new(corrupted_batch, snr=self.snr, return_llr_matrix=False)\n",
        "                except TypeError:\n",
        "                    # Fall back if parameter doesn't exist\n",
        "                    final_llrs, batch_decoded_bits = self.polar.sc_decode_new(corrupted_batch, snr=self.snr)\n",
        "\n",
        "                # Need to define a method to collect LLR matrices separately\n",
        "                llr_matrix_batch = self._collect_llr_matrices(corrupted_batch, snr=self.snr)\n",
        "            else:\n",
        "                try:\n",
        "                    # Try with return_llr_matrix parameter\n",
        "                    final_llrs, batch_decoded_bits, llr_matrix_batch = self.polar.sc_decode_new(corrupted_batch, snr=self.snr, return_llr_matrix=True)\n",
        "                except TypeError:\n",
        "                    # Fall back if parameter doesn't exist\n",
        "                    final_llrs, batch_decoded_bits, llr_matrix_batch = self.polar.sc_decode_new(corrupted_batch, snr=self.snr)\n",
        "                # Debug: check if LLR matrix contains non-zero values\n",
        "                if torch.all(llr_matrix_batch == 0):\n",
        "                    print(\"WARNING: LLR matrix contains all zeros!\")\n",
        "                    print(f\"LLR matrix shape: {llr_matrix_batch.shape}\")\n",
        "                    # Try to print some values from final_llrs to confirm LLRs are calculated\n",
        "                    print(f\"Sample final LLRs: {final_llrs[0, :10]}\")  # Print first 10 values\n",
        "\n",
        "            # Store results\n",
        "            self.decoded_bits.append(batch_decoded_bits.cpu().numpy())\n",
        "            self.llr_matrices.append(llr_matrix_batch.cpu().numpy())\n",
        "\n",
        "        # Concatenate batches\n",
        "        self.decoded_bits = np.concatenate(self.decoded_bits, axis=0)\n",
        "        self.llr_matrices = np.concatenate(self.llr_matrices, axis=0)\n",
        "\n",
        "        print(f\"Decoded bits shape: {self.decoded_bits.shape}\")\n",
        "        print(f\"LLR matrices shape: {self.llr_matrices.shape}\")\n",
        "\n",
        "        # Save the decoded bits for future use if path is provided\n",
        "        if save_decoded_path:\n",
        "            print(f\"Saving decoded bits to {save_decoded_path}\")\n",
        "            np.savez(\n",
        "                save_decoded_path,\n",
        "                decoded_bits=self.decoded_bits,\n",
        "                info_positions=self.polar.info_positions\n",
        "            )\n",
        "\n",
        "        # Calculate and print BER and BLER\n",
        "        decoded_bits_tensor = torch.tensor(self.decoded_bits)\n",
        "        ber = errors_ber(self.msg_bits, decoded_bits_tensor).item()\n",
        "        bler = errors_bler(self.msg_bits, decoded_bits_tensor).item()\n",
        "        print(f\"SC Decoder Performance - BER: {ber:.6f}, BLER: {bler:.6f}\")\n",
        "\n",
        "    def _collect_llr_matrices(self, corrupted_batch, snr):\n",
        "        \"\"\"\n",
        "        Method to separately collect LLR matrices during decoding.\n",
        "        This needs to be implemented based on how your polar code operates.\n",
        "        \"\"\"\n",
        "        # Since this is highly dependent on the PolarCode implementation,\n",
        "        # we need to modify the PolarCode class to expose the LLR matrices\n",
        "        # For now, creating a placeholder matrix of correct size\n",
        "        batch_size = corrupted_batch.shape[0]\n",
        "        llr_matrix = torch.zeros((batch_size, self.n+1, self.N), device=corrupted_batch.device)\n",
        "\n",
        "        # This is where we would collect the actual LLR matrices\n",
        "        # This may require modifying the PolarCode class\n",
        "\n",
        "        return llr_matrix\n",
        "\n",
        "    def __len__(self):\n",
        "        return len(self.msg_bits)\n",
        "\n",
        "    def __getitem__(self, idx):\n",
        "        return {\n",
        "            'msg_bits': self.msg_bits[idx],\n",
        "            'bpsk': self.bpsk[idx],\n",
        "            'corrupted_codeword': self.corrupted_codeword[idx],\n",
        "            'codeword': self.codeword[idx],\n",
        "            'decoded_bits': torch.tensor(self.decoded_bits[idx], dtype=torch.float32),\n",
        "            'llr_matrix': torch.tensor(self.llr_matrices[idx], dtype=torch.float32)\n",
        "        }"
      ],
      "metadata": {
        "id": "Sz24fpEYx16r"
      },
      "execution_count": 157,
      "outputs": []
    },
    {
      "cell_type": "code",
      "source": [
        "import torch\n",
        "import torch.nn as nn\n",
        "import torch.nn.functional as F\n",
        "\n",
        "class PolarLLRMatrixNet(nn.Module):\n",
        "    def __init__(self, n, K, hidden_channels=64):\n",
        "        super().__init__()\n",
        "        self.n = n\n",
        "        self.N = 2**n\n",
        "        self.K = K\n",
        "\n",
        "        # CNN layers\n",
        "        self.conv1 = nn.Conv2d(1, hidden_channels, kernel_size=3, padding=1)\n",
        "        self.bn1 = nn.BatchNorm2d(hidden_channels)\n",
        "        self.conv2 = nn.Conv2d(hidden_channels, hidden_channels*2, kernel_size=3, padding=1)\n",
        "        self.bn2 = nn.BatchNorm2d(hidden_channels*2)\n",
        "        self.pool = nn.MaxPool2d(2, 2)\n",
        "\n",
        "        # Compute output size after conv layers\n",
        "        with torch.no_grad():\n",
        "            dummy_input = torch.zeros(1, 1, n + 1, self.N)  # Shape: [B, C, H, W]\n",
        "            x = self.pool(F.relu(self.bn1(self.conv1(dummy_input))))\n",
        "            x = F.relu(self.bn2(self.conv2(x)))\n",
        "            self.flattened_size = x.view(1, -1).shape[1]\n",
        "\n",
        "        # Fully connected layers\n",
        "        self.fc1 = nn.Linear(self.flattened_size, hidden_channels*4)\n",
        "        self.fc2 = nn.Linear(hidden_channels*4, hidden_channels*2)\n",
        "        self.fc3 = nn.Linear(hidden_channels*2, K)\n",
        "\n",
        "        # Regularization\n",
        "        self.dropout = nn.Dropout(0.2)\n",
        "        self.act = nn.ReLU()\n",
        "\n",
        "    def forward(self, x):\n",
        "        # Input: [B, n+1, N]\n",
        "        x = x.unsqueeze(1)  # [B, 1, n+1, N]\n",
        "        x = self.act(self.bn1(self.conv1(x)))\n",
        "        x = self.pool(x)\n",
        "        x = self.act(self.bn2(self.conv2(x)))\n",
        "        x = x.view(x.size(0), -1)\n",
        "        x = self.act(self.fc1(x))\n",
        "        x = self.dropout(x)\n",
        "        x = self.act(self.fc2(x))\n",
        "        x = self.dropout(x)\n",
        "        x = self.fc3(x)\n",
        "        return x"
      ],
      "metadata": {
        "id": "cMf6WTjXzn-A"
      },
      "execution_count": 158,
      "outputs": []
    },
    {
      "cell_type": "code",
      "source": [
        "import os\n",
        "import torch\n",
        "import csv\n",
        "from tqdm import tqdm\n",
        "\n",
        "def train_llr_matrix_model(model, train_loader, val_loader, criterion, optimizer, num_epochs, device,\n",
        "                           patience=20, n=5, K=16, snr=1.0, log_dir=\"training_logs\"):\n",
        "    best_val_loss = float('inf')\n",
        "    trigger_times = 0\n",
        "\n",
        "    train_loss_values = []\n",
        "    train_ber_values = []\n",
        "    train_bler_values = []\n",
        "    val_loss_values = []\n",
        "    val_ber_values = []\n",
        "    val_bler_values = []\n",
        "\n",
        "    # Logging setup\n",
        "    os.makedirs(log_dir, exist_ok=True)\n",
        "    log_path = os.path.join(log_dir, f'train_log_N_{2**n}_K_{K}_SNR_{snr}.csv')\n",
        "    with open(log_path, 'w', newline='') as f:\n",
        "        writer = csv.writer(f)\n",
        "        writer.writerow(['Epoch', 'Train Loss', 'Val Loss', 'Train BER', 'Val BER', 'Train BLER', 'Val BLER'])\n",
        "\n",
        "    for epoch in range(num_epochs):\n",
        "        model.train()\n",
        "        train_total_loss, train_total_ber, train_total_bler = 0, 0, 0\n",
        "\n",
        "        for batch in tqdm(train_loader, desc=f\"Epoch {epoch+1}/{num_epochs} [Training]\", leave=False):\n",
        "            msg_bits = batch['msg_bits'].to(device)\n",
        "            llr_matrix = batch['llr_matrix'].to(device)\n",
        "\n",
        "            optimizer.zero_grad()\n",
        "            outputs = model(llr_matrix)\n",
        "            loss = criterion(outputs, msg_bits)\n",
        "            loss.backward()\n",
        "            optimizer.step()\n",
        "\n",
        "            predicted_bits = torch.round(torch.sigmoid(outputs))\n",
        "            ber, bler = calculate_ber_bler(msg_bits, predicted_bits)\n",
        "\n",
        "            train_total_loss += loss.item()\n",
        "            train_total_ber += ber\n",
        "            train_total_bler += bler\n",
        "\n",
        "        train_avg_loss = train_total_loss / len(train_loader)\n",
        "        train_avg_ber = train_total_ber / len(train_loader)\n",
        "        train_avg_bler = train_total_bler / len(train_loader)\n",
        "\n",
        "        train_loss_values.append(train_avg_loss)\n",
        "        train_ber_values.append(train_avg_ber)\n",
        "        train_bler_values.append(train_avg_bler)\n",
        "\n",
        "        model.eval()\n",
        "        val_total_loss, val_total_ber, val_total_bler = 0, 0, 0\n",
        "\n",
        "        with torch.no_grad():\n",
        "            for batch in tqdm(val_loader, desc=f\"Epoch {epoch+1}/{num_epochs} [Validation]\", leave=False):\n",
        "                msg_bits = batch['msg_bits'].to(device)\n",
        "                llr_matrix = batch['llr_matrix'].to(device)\n",
        "\n",
        "                outputs = model(llr_matrix)\n",
        "                loss = criterion(outputs, msg_bits)\n",
        "\n",
        "                predicted_bits = torch.round(torch.sigmoid(outputs))\n",
        "                ber, bler = calculate_ber_bler(msg_bits, predicted_bits)\n",
        "\n",
        "                val_total_loss += loss.item()\n",
        "                val_total_ber += ber\n",
        "                val_total_bler += bler\n",
        "\n",
        "        val_avg_loss = val_total_loss / len(val_loader)\n",
        "        val_avg_ber = val_total_ber / len(val_loader)\n",
        "        val_avg_bler = val_total_bler / len(val_loader)\n",
        "\n",
        "        val_loss_values.append(val_avg_loss)\n",
        "        val_ber_values.append(val_avg_ber)\n",
        "        val_bler_values.append(val_avg_bler)\n",
        "\n",
        "        # Save to log file\n",
        "        with open(log_path, 'a', newline='') as f:\n",
        "            writer = csv.writer(f)\n",
        "            writer.writerow([epoch + 1, train_avg_loss, val_avg_loss, train_avg_ber, val_avg_ber, train_avg_bler, val_avg_bler])\n",
        "\n",
        "        # Save best model\n",
        "        if val_avg_loss < best_val_loss:\n",
        "            best_val_loss = val_avg_loss\n",
        "            trigger_times = 0\n",
        "\n",
        "            save_dir = f'weights_llr_matrix/N_{2**n}_K_{K}_SNR_{snr}_hidden_{model.fc1.in_features}'\n",
        "            os.makedirs(save_dir, exist_ok=True)\n",
        "            torch.save(model.state_dict(), os.path.join(save_dir, f'epoch_{epoch + 1}.pth'))\n",
        "        else:\n",
        "            trigger_times += 1\n",
        "            if trigger_times >= patience:\n",
        "                print(f\"⏹️ Early stopping at epoch {epoch + 1}!\")\n",
        "                break\n",
        "\n",
        "        # Print progress every epoch\n",
        "        if ((epoch+1)%5==0):\n",
        "            print(f\"[Epoch {epoch+1}] Train Loss: {train_avg_loss:.4f}, Val Loss: {val_avg_loss:.4f}\")\n",
        "            print(f\"              Train BER: {train_avg_ber:.4f}, Val BER: {val_avg_ber:.4f}\")\n",
        "            print(f\"              Train BLER: {train_avg_bler:.4f}, Val BLER: {val_avg_bler:.4f}\")\n",
        "\n",
        "    print(f'✅ Training complete. Best val loss: {best_val_loss:.4f} at epoch {epoch + 1 - trigger_times}')\n",
        "    print(f\"📁 Logs saved to: {log_path}\")\n",
        "    return train_loss_values, train_ber_values, train_bler_values, val_loss_values, val_ber_values, val_bler_values"
      ],
      "metadata": {
        "id": "Z1__EwtWzrYB"
      },
      "execution_count": 159,
      "outputs": []
    },
    {
      "cell_type": "code",
      "source": [
        "# Utility function for calculating BER and BLER\n",
        "def calculate_ber_bler(targets, predictions):\n",
        "    ber = errors_ber(targets, predictions).item()\n",
        "    bler = errors_bler(targets, predictions).item()\n",
        "    return ber, bler\n",
        "\n",
        "# Function to visualize the LLR matrix\n",
        "def visualize_llr_matrix(llr_matrix, title=\"LLR Matrix\"):\n",
        "    plt.figure(figsize=(12, 8))\n",
        "    plt.imshow(llr_matrix, cmap='viridis', aspect='auto')\n",
        "    plt.colorbar(label='LLR Value')\n",
        "    plt.title(title)\n",
        "    plt.xlabel('N (Codeword Length)')\n",
        "    plt.ylabel('Decoding Stage (log2N + 1)')\n",
        "    plt.tight_layout()\n",
        "    plt.show()"
      ],
      "metadata": {
        "id": "u38pvFMkz2qS"
      },
      "execution_count": 160,
      "outputs": []
    },
    {
      "cell_type": "code",
      "source": [
        "seed = 42\n",
        "random.seed(seed)\n",
        "np.random.seed(seed)\n",
        "torch.manual_seed(seed)\n",
        "torch.cuda.manual_seed(seed)\n",
        "torch.backends.cudnn.deterministic = True\n",
        "\n",
        "# Parameters\n",
        "n = 5\n",
        "N = 2**n\n",
        "K = 16\n",
        "snr = 2\n",
        "batch_size = 64\n",
        "num_epochs = 10\n",
        "learning_rate = 0.001\n",
        "hidden_channels = 64"
      ],
      "metadata": {
        "id": "OLo4fBuo8Wj7"
      },
      "execution_count": 161,
      "outputs": []
    },
    {
      "cell_type": "code",
      "source": [
        "# Device configuration\n",
        "device = torch.device('cuda' if torch.cuda.is_available() else 'cpu')\n",
        "\n",
        "# Path to data\n",
        "data_path = f'polar_dataset_N{N}_K{K}_SNR{snr}_samples1000.npz'\n",
        "save_decoded_path = f'decodedbits_dataset_N{N}_K{K}_SNR{snr}_samples1000.npz'\n",
        "\n",
        "# Step 1: Modify the PolarCode class to include the updated sc_decode_new method\n",
        "# This would typically be done by editing polar.py directly\n",
        "\n",
        "# Step 2: Create the dataset with the modified PolarDatasetWithLLRMatrix class\n",
        "print(\"Creating dataset...\")\n",
        "dataset = PolarDatasetWithLLRMatrix(data_path, n, K, snr, save_decoded_path)"
      ],
      "metadata": {
        "colab": {
          "base_uri": "https://localhost:8080/"
        },
        "id": "39F0lWSE8eUs",
        "outputId": "e227290a-8eca-4211-beeb-5e0d452195fc"
      },
      "execution_count": 162,
      "outputs": [
        {
          "output_type": "stream",
          "name": "stdout",
          "text": [
            "Creating dataset...\n",
            "Loading data from polar_dataset_N32_K16_SNR2_samples1000.npz\n",
            "Generating decoded bits and LLR matrices for all samples...\n",
            "sc_decode_new returns 2 values\n",
            "Detected 2-value return pattern - will modify LLR matrix collection\n"
          ]
        },
        {
          "output_type": "stream",
          "name": "stderr",
          "text": [
            "100%|██████████| 10/10 [00:00<00:00, 10.54it/s]"
          ]
        },
        {
          "output_type": "stream",
          "name": "stdout",
          "text": [
            "Decoded bits shape: (1000, 16)\n",
            "LLR matrices shape: (1000, 6, 32)\n",
            "Saving decoded bits to decodedbits_dataset_N32_K16_SNR2_samples1000.npz\n",
            "SC Decoder Performance - BER: 0.974937, BLER: 1.000000\n"
          ]
        },
        {
          "output_type": "stream",
          "name": "stderr",
          "text": [
            "\n"
          ]
        }
      ]
    },
    {
      "cell_type": "code",
      "source": [
        "# Visualize an example LLR matrix\n",
        "sample_idx = 100\n",
        "sample = dataset[sample_idx]\n",
        "print(sample)\n",
        "visualize_llr_matrix(sample['llr_matrix'].numpy(), title=f\"Example LLR Matrix (Sample {sample_idx})\")"
      ],
      "metadata": {
        "colab": {
          "base_uri": "https://localhost:8080/",
          "height": 1000
        },
        "id": "GTjkLHDr8m_c",
        "outputId": "0dd207be-cffc-4178-90de-6b2712d6f633"
      },
      "execution_count": 163,
      "outputs": [
        {
          "output_type": "stream",
          "name": "stdout",
          "text": [
            "{'msg_bits': tensor([0., 1., 0., 1., 1., 1., 1., 1., 0., 1., 0., 1., 0., 0., 1., 1.]), 'bpsk': tensor([ 1., -1.,  1., -1., -1., -1., -1., -1.,  1., -1.,  1., -1.,  1.,  1.,\n",
            "        -1., -1.]), 'corrupted_codeword': tensor([ 0.3015, -1.6435,  1.5392, -0.7322,  0.5798, -0.2593, -0.4629,  1.1142,\n",
            "         0.7335, -0.9701,  1.1730,  2.9026,  1.3196,  2.3404, -1.1796, -0.5124,\n",
            "        -0.2702, -0.9019,  1.2459, -0.6234, -0.5211, -0.2220, -1.5187, -0.8696,\n",
            "         0.8435, -0.1749, -1.3105,  1.8108,  0.0255, -2.6347,  1.4756, -1.1080]), 'codeword': tensor([ 1., -1.,  1., -1.,  1., -1., -1.,  1., -1., -1.,  1.,  1.,  1.,  1.,\n",
            "         1.,  1., -1., -1., -1., -1.,  1.,  1., -1., -1.,  1., -1., -1.,  1.,\n",
            "         1., -1.,  1., -1.]), 'decoded_bits': tensor([-1.,  1., -1., -1.,  1.,  1.,  1., -1.,  1., -1.,  1., -1.,  1.,  1.,\n",
            "        -1., -1.]), 'llr_matrix': tensor([[0., 0., 0., 0., 0., 0., 0., 0., 0., 0., 0., 0., 0., 0., 0., 0., 0., 0., 0., 0., 0., 0., 0., 0.,\n",
            "         0., 0., 0., 0., 0., 0., 0., 0.],\n",
            "        [0., 0., 0., 0., 0., 0., 0., 0., 0., 0., 0., 0., 0., 0., 0., 0., 0., 0., 0., 0., 0., 0., 0., 0.,\n",
            "         0., 0., 0., 0., 0., 0., 0., 0.],\n",
            "        [0., 0., 0., 0., 0., 0., 0., 0., 0., 0., 0., 0., 0., 0., 0., 0., 0., 0., 0., 0., 0., 0., 0., 0.,\n",
            "         0., 0., 0., 0., 0., 0., 0., 0.],\n",
            "        [0., 0., 0., 0., 0., 0., 0., 0., 0., 0., 0., 0., 0., 0., 0., 0., 0., 0., 0., 0., 0., 0., 0., 0.,\n",
            "         0., 0., 0., 0., 0., 0., 0., 0.],\n",
            "        [0., 0., 0., 0., 0., 0., 0., 0., 0., 0., 0., 0., 0., 0., 0., 0., 0., 0., 0., 0., 0., 0., 0., 0.,\n",
            "         0., 0., 0., 0., 0., 0., 0., 0.],\n",
            "        [0., 0., 0., 0., 0., 0., 0., 0., 0., 0., 0., 0., 0., 0., 0., 0., 0., 0., 0., 0., 0., 0., 0., 0.,\n",
            "         0., 0., 0., 0., 0., 0., 0., 0.]])}\n"
          ]
        },
        {
          "output_type": "display_data",
          "data": {
            "text/plain": [
              "<Figure size 1200x800 with 2 Axes>"
            ],
            "image/png": "[encoded data removed]"
          },
          "metadata": {}
        }
      ]
    },
    {
      "cell_type": "code",
      "source": [
        "# Split dataset\n",
        "train_size = int(0.8 * len(dataset))\n",
        "val_size = int(0.1 * len(dataset))\n",
        "test_size = len(dataset) - train_size - val_size\n",
        "\n",
        "train_dataset, val_dataset, test_dataset = torch.utils.data.random_split(\n",
        "    dataset, [train_size, val_size, test_size]\n",
        ")\n",
        "\n",
        "# Create data loaders\n",
        "train_loader = torch.utils.data.DataLoader(\n",
        "    train_dataset, batch_size=batch_size, shuffle=True, num_workers=4\n",
        ")\n",
        "val_loader = torch.utils.data.DataLoader(\n",
        "    val_dataset, batch_size=batch_size, shuffle=False, num_workers=4\n",
        ")\n",
        "test_loader = torch.utils.data.DataLoader(\n",
        "    test_dataset, batch_size=batch_size, shuffle=False, num_workers=4\n",
        ")"
      ],
      "metadata": {
        "id": "Ds_qUavEAxth"
      },
      "execution_count": 67,
      "outputs": []
    },
    {
      "cell_type": "code",
      "source": [
        "# Initialize the model\n",
        "model = PolarLLRMatrixNet(n, K, hidden_channels).to(device)\n",
        "\n",
        "# Loss and optimizer\n",
        "criterion = nn.BCEWithLogitsLoss()\n",
        "optimizer = torch.optim.Adam(model.parameters(), lr=learning_rate)"
      ],
      "metadata": {
        "id": "M7J0j53RFBEy"
      },
      "execution_count": 68,
      "outputs": []
    },
    {
      "cell_type": "code",
      "source": [
        "# Train the model\n",
        "train_metrics = train_llr_matrix_model(\n",
        "    model, train_loader, val_loader, criterion, optimizer, num_epochs, device\n",
        ")"
      ],
      "metadata": {
        "colab": {
          "base_uri": "https://localhost:8080/"
        },
        "id": "JTXkh3qeFDa9",
        "outputId": "e60df166-64a8-4277-e97a-2d40ddd48816"
      },
      "execution_count": 75,
      "outputs": [
        {
          "output_type": "stream",
          "name": "stderr",
          "text": []
        },
        {
          "output_type": "stream",
          "name": "stdout",
          "text": [
            "[Epoch 5] Train Loss: 0.6928, Val Loss: 0.6924\n",
            "              Train BER: 0.4900, Val BER: 0.4902\n",
            "              Train BLER: 1.0000, Val BLER: 1.0000\n"
          ]
        },
        {
          "output_type": "stream",
          "name": "stderr",
          "text": [
            "                                                                       "
          ]
        },
        {
          "output_type": "stream",
          "name": "stdout",
          "text": [
            "[Epoch 10] Train Loss: 0.6929, Val Loss: 0.6923\n",
            "              Train BER: 0.4901, Val BER: 0.4786\n",
            "              Train BLER: 1.0000, Val BLER: 1.0000\n",
            "✅ Training complete. Best val loss: 0.6922 at epoch 2\n",
            "📁 Logs saved to: training_logs/train_log_N_32_K_16_SNR_1.0.csv\n"
          ]
        },
        {
          "output_type": "stream",
          "name": "stderr",
          "text": [
            "\r"
          ]
        }
      ]
    },
    {
      "cell_type": "code",
      "source": [],
      "metadata": {
        "id": "1X_k5EHsFJuX"
      },
      "execution_count": null,
      "outputs": []
    }
  ]
}